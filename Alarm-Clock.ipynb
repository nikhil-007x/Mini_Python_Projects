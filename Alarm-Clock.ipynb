{
 "cells": [
  {
   "cell_type": "code",
   "execution_count": null,
   "id": "14cb1f03",
   "metadata": {},
   "outputs": [],
   "source": [
    "from playsound import playsound\n",
    "import time\n",
    "import os\n",
    "\n",
    "def alarm(seconds):\n",
    "    time_elapsed = 0\n",
    "    while time_elapsed < seconds:\n",
    "        time.sleep(1)\n",
    "        time_elapsed += 1\n",
    "\n",
    "        time_left = seconds - time_elapsed\n",
    "        minutes_left = time_left // 60  \n",
    "        seconds_left = time_left % 60\n",
    "\n",
    "        # Windows clear\n",
    "        os.system('cls')\n",
    "        print(f\"Alarm will sound in {minutes_left:02d}:{seconds_left:02d}\")\n",
    "\n",
    "    playsound(\"Alarm-audio.mp3\") \n",
    "\n",
    "minutes = int(input(\"How many minutes to wait: \"))\n",
    "seconds = int(input(\"How many seconds to wait: \"))\n",
    "total_seconds = minutes * 60 + seconds\n",
    "alarm(total_seconds)\n"
   ]
  }
 ],
 "metadata": {
  "kernelspec": {
   "display_name": "Python 3",
   "language": "python",
   "name": "python3"
  },
  "language_info": {
   "codemirror_mode": {
    "name": "ipython",
    "version": 3
   },
   "file_extension": ".py",
   "mimetype": "text/x-python",
   "name": "python",
   "nbconvert_exporter": "python",
   "pygments_lexer": "ipython3",
   "version": "3.11.9"
  }
 },
 "nbformat": 4,
 "nbformat_minor": 5
}
